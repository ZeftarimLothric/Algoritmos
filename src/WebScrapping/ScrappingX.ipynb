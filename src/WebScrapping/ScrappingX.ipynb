{
 "cells": [
  {
   "cell_type": "code",
   "execution_count": null,
   "metadata": {},
   "outputs": [],
   "source": [
    "from selenium import webdriver\n",
    "from selenium.webdriver.chrome.service import Service\n",
    "from selenium.webdriver.chrome.options import Options\n",
    "from selenium.webdriver.common.by import By\n",
    "from selenium.webdriver.common.keys import Keys\n",
    "import time\n",
    "from tabulate import tabulate\n"
   ]
  },
  {
   "cell_type": "code",
   "execution_count": null,
   "metadata": {},
   "outputs": [],
   "source": [
    "#  Configuración de Selenium con Chrome\n",
    "chrome_options = Options()\n",
    "chrome_options.add_argument(\"--disable-blink-features=AutomationControlled\")  # Evita detección de bots\n",
    "chrome_options.add_argument(\"--disable-gpu\")\n",
    "chrome_options.add_argument(\"--no-sandbox\")\n",
    "chrome_options.add_argument(\"--headless\")  \n"
   ]
  },
  {
   "cell_type": "code",
   "execution_count": null,
   "metadata": {},
   "outputs": [],
   "source": [
    "# Iniciar WebDriver\n",
    "driver = webdriver.Chrome(options=chrome_options)\n",
    "\n",
    "# Ir a la página de inicio de sesión de Twitter/X\n",
    "driver.get(\"https://x.com/login\")\n",
    "time.sleep(5)  # Esperar a que cargue la página"
   ]
  },
  {
   "cell_type": "code",
   "execution_count": null,
   "metadata": {},
   "outputs": [],
   "source": [
    "#  Iniciar sesión en Twitter/X\n",
    "try:\n",
    "    username_input = driver.find_element(By.NAME, \"text\")  # Buscar campo de usuario\n",
    "    username_input.send_keys(\"correo\")  # 🔹 Reemplaza con tu usuario o correo\n",
    "    username_input.send_keys(Keys.RETURN)\n",
    "    \n",
    "    time.sleep(3)  # Esperar la transición al siguiente campo\n",
    "\n",
    "    password_input = driver.find_element(By.NAME, \"password\")  # Buscar campo de contraseña\n",
    "    password_input.send_keys(\"contraseña\")  # 🔹 Reemplaza con tu contraseña\n",
    "    password_input.send_keys(Keys.RETURN)\n",
    "\n",
    "    time.sleep(5)  # Esperar a que cargue la cuenta\n",
    "\n",
    "except Exception as e:\n",
    "    print(\"❌ Error al iniciar sesión:\", e)\n",
    "    driver.quit()\n",
    "    exit()"
   ]
  },
  {
   "cell_type": "code",
   "execution_count": null,
   "metadata": {},
   "outputs": [],
   "source": [
    "#  Ir a la sección de tendencias\n",
    "driver.get(\"https://x.com/explore/tabs/trending\")\n",
    "time.sleep(5)  # Esperar a que se carguen las tendencias"
   ]
  },
  {
   "cell_type": "code",
   "execution_count": null,
   "metadata": {},
   "outputs": [],
   "source": [
    "#  Buscar tendencias y número de posts\n",
    "try:\n",
    "    # Ajustar el XPath para seleccionar correctamente los elementos con las tendencias\n",
    "    tendencias_raw = driver.find_elements(By.XPATH, '//div[@data-testid=\"trend\"]//span[@dir=\"ltr\" and contains(@class,\"css-1jxf684\")]')\n",
    "    posts_raw = driver.find_elements(By.XPATH, '//div[@data-testid=\"trend\"]//span[contains(text(),\"posts\")]')\n",
    "\n",
    "    #  Extraer solo el texto del `span`, ignorando imágenes y otros elementos\n",
    "    tendencias = []\n",
    "    for tendencia in tendencias_raw:\n",
    "        texto = tendencia.get_attribute(\"textContent\").strip()  #  Extrae solo el texto dentro del `span`\n",
    "        if texto:\n",
    "            tendencias.append(texto)\n",
    "\n",
    "    #  Crear tabla de tendencias\n",
    "    tabla_tendencias = []\n",
    "    for i in range(min(len(tendencias), len(posts_raw))):  \n",
    "        tendencia_texto = tendencias[i]\n",
    "        posts_texto = posts_raw[i].text.strip()\n",
    "\n",
    "        if tendencia_texto and posts_texto:\n",
    "            tabla_tendencias.append([i+1, tendencia_texto, posts_texto])  #  Agregar a la tabla\n",
    "\n",
    "    #  Mostrar la tabla con `tabulate`\n",
    "    print(tabulate(tabla_tendencias, headers=[\"#\", \"Tendencia\", \"Posts\"], tablefmt=\"fancy_grid\"))\n",
    "\n",
    "except Exception as e:\n",
    "    print(\"❌ No se pudieron obtener las tendencias:\", e)"
   ]
  },
  {
   "cell_type": "code",
   "execution_count": null,
   "metadata": {},
   "outputs": [],
   "source": [
    "# 🔹 Cerrar el navegador\n",
    "driver.quit()"
   ]
  }
 ],
 "metadata": {
  "kernelspec": {
   "display_name": ".venv",
   "language": "python",
   "name": "python3"
  },
  "language_info": {
   "codemirror_mode": {
    "name": "ipython",
    "version": 3
   },
   "file_extension": ".py",
   "mimetype": "text/x-python",
   "name": "python",
   "nbconvert_exporter": "python",
   "pygments_lexer": "ipython3",
   "version": "3.13.2"
  }
 },
 "nbformat": 4,
 "nbformat_minor": 2
}
