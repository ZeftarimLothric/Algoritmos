{
 "cells": [
  {
   "cell_type": "code",
   "execution_count": 8,
   "metadata": {},
   "outputs": [],
   "source": [
    "from selenium import webdriver\n",
    "from selenium.webdriver.chrome.service import Service\n",
    "from selenium.webdriver.chrome.options import Options\n",
    "from selenium.webdriver.common.by import By\n",
    "from selenium.webdriver.common.keys import Keys\n",
    "from selenium.webdriver.support.ui import WebDriverWait\n",
    "from selenium.webdriver.support import expected_conditions as EC\n",
    "from tabulate import tabulate \n",
    "import time\n"
   ]
  },
  {
   "cell_type": "code",
   "execution_count": 2,
   "metadata": {},
   "outputs": [],
   "source": [
    "# 🔹 Ruta del ejecutable de Chrome Testing\n",
    "chrome_testing_path = r\"C:\\chrome-win64\\chrome.exe\"  # "
   ]
  },
  {
   "cell_type": "code",
   "execution_count": 3,
   "metadata": {},
   "outputs": [],
   "source": [
    "#  Configuración de Selenium con Chrome\n",
    "chrome_options = Options()\n",
    "chrome_options.binary_location = chrome_testing_path\n",
    "chrome_options.add_argument(\"--disable-blink-features=AutomationControlled\")  # Evita detección de bots\n",
    "chrome_options.add_argument(\"--disable-gpu\")\n",
    "chrome_options.add_argument(\"--no-sandbox\")\n",
    "# chrome_options.add_argument(\"--headless\")  \n"
   ]
  },
  {
   "cell_type": "code",
   "execution_count": 4,
   "metadata": {},
   "outputs": [],
   "source": [
    "# Iniciar WebDriver\n",
    "driver = webdriver.Chrome(options=chrome_options)\n",
    "\n",
    "# Ir a la página de inicio de sesión de Twitter/X\n",
    "driver.get(\"https://x.com/login\")\n",
    "time.sleep(5)  # Esperar a que cargue la página"
   ]
  },
  {
   "cell_type": "code",
   "execution_count": null,
   "metadata": {},
   "outputs": [
    {
     "name": "stdout",
     "output_type": "stream",
     "text": [
      "❌ Error al iniciar sesión: Message: \n",
      "Stacktrace:\n",
      "\tGetHandleVerifier [0x00007FF690FBFE45+26629]\n",
      "\t(No symbol) [0x00007FF690F26010]\n",
      "\t(No symbol) [0x00007FF690DB931A]\n",
      "\t(No symbol) [0x00007FF690E0F8E7]\n",
      "\t(No symbol) [0x00007FF690E0FB1C]\n",
      "\t(No symbol) [0x00007FF690E634A7]\n",
      "\t(No symbol) [0x00007FF690E37AEF]\n",
      "\t(No symbol) [0x00007FF690E60169]\n",
      "\t(No symbol) [0x00007FF690E37883]\n",
      "\t(No symbol) [0x00007FF690E00550]\n",
      "\t(No symbol) [0x00007FF690E01803]\n",
      "\tGetHandleVerifier [0x00007FF6913172BD+3529853]\n",
      "\tGetHandleVerifier [0x00007FF69132DA22+3621858]\n",
      "\tGetHandleVerifier [0x00007FF6913224D3+3575443]\n",
      "\tGetHandleVerifier [0x00007FF69108B77A+860474]\n",
      "\t(No symbol) [0x00007FF690F3088F]\n",
      "\t(No symbol) [0x00007FF690F2CBC4]\n",
      "\t(No symbol) [0x00007FF690F2CD66]\n",
      "\t(No symbol) [0x00007FF690F1C2C9]\n",
      "\tBaseThreadInitThunk [0x00007FFB2E227374+20]\n",
      "\tRtlUserThreadStart [0x00007FFB2F61CC91+33]\n",
      "\n"
     ]
    },
    {
     "ename": "",
     "evalue": "",
     "output_type": "error",
     "traceback": [
      "\u001b[1;31mThe Kernel crashed while executing code in the current cell or a previous cell. \n",
      "\u001b[1;31mPlease review the code in the cell(s) to identify a possible cause of the failure. \n",
      "\u001b[1;31mClick <a href='https://aka.ms/vscodeJupyterKernelCrash'>here</a> for more info. \n",
      "\u001b[1;31mView Jupyter <a href='command:jupyter.viewOutput'>log</a> for further details."
     ]
    }
   ],
   "source": [
    "# # 🔹 Iniciar sesión en Twitter/X\n",
    "# try:\n",
    "#     # Esperar hasta que el campo de usuario esté disponible\n",
    "#     username_input = WebDriverWait(driver, 15).until(\n",
    "#         EC.presence_of_element_located((By.NAME, \"text\"))\n",
    "#     )\n",
    "#     username_input.send_keys(\"correo\")  # 🔹 Reemplaza con tu usuario o correo\n",
    "#     time.sleep(2)  # Pequeña pausa para que no lo detecte como bot\n",
    "#     username_input.send_keys(Keys.RETURN)\n",
    "\n",
    "#     time.sleep(3)  # Esperar la transición al siguiente campo\n",
    "\n",
    "#     # 🔹 Esperar hasta que el campo de contraseña aparezca\n",
    "#     password_input = WebDriverWait(driver, 15).until(\n",
    "#         EC.presence_of_element_located((By.NAME, \"password\"))\n",
    "#     )\n",
    "#     password_input.send_keys(\"contraseña\")  # 🔹 Reemplaza con tu contraseña\n",
    "#     time.sleep(2)  # Pequeña pausa\n",
    "#     password_input.send_keys(Keys.RETURN)\n",
    "\n",
    "#     time.sleep(5)  # Esperar a que cargue la cuenta\n",
    "\n",
    "#     print(\"✅ Inicio de sesión exitoso en Twitter/X.\")\n",
    "\n",
    "# except Exception as e:\n",
    "#     print(\"❌ Error al iniciar sesión:\", e)\n",
    "#     driver.quit()\n",
    "#     exit()"
   ]
  },
  {
   "cell_type": "code",
   "execution_count": 5,
   "metadata": {},
   "outputs": [],
   "source": [
    "#  Ir a la sección de tendencias\n",
    "driver.get(\"https://x.com/explore/tabs/trending\")\n",
    "time.sleep(5)  # Esperar a que se carguen las tendencias"
   ]
  },
  {
   "cell_type": "code",
   "execution_count": 22,
   "metadata": {},
   "outputs": [
    {
     "name": "stdout",
     "output_type": "stream",
     "text": [
      "╒═════╤════════════════════════╤═════════════╕\n",
      "│   # │ Tendencia              │ Posts       │\n",
      "╞═════╪════════════════════════╪═════════════╡\n",
      "│   1 │ Jalisco                │ 136K posts  │\n",
      "├─────┼────────────────────────┼─────────────┤\n",
      "│   2 │ #LutoNacional          │ 9,445 posts │\n",
      "├─────┼────────────────────────┼─────────────┤\n",
      "│   3 │ Vive Feliz             │ 1,785 posts │\n",
      "├─────┼────────────────────────┼─────────────┤\n",
      "│   4 │ Alfaro                 │ 22.5K posts │\n",
      "├─────┼────────────────────────┼─────────────┤\n",
      "│   5 │ Liverpool              │ 484K posts  │\n",
      "├─────┼────────────────────────┼─────────────┤\n",
      "│   6 │ #FelizMiércoles        │ 7,446 posts │\n",
      "├─────┼────────────────────────┼─────────────┤\n",
      "│   7 │ Real Madrid            │ 123K posts  │\n",
      "├─────┼────────────────────────┼─────────────┤\n",
      "│   8 │ #MásAcciónMásDiversión │ 41K posts   │\n",
      "├─────┼────────────────────────┼─────────────┤\n",
      "│   9 │ Roro                   │ 44.6K posts │\n",
      "├─────┼────────────────────────┼─────────────┤\n",
      "│  10 │ Lilo                   │ 25.7K posts │\n",
      "├─────┼────────────────────────┼─────────────┤\n",
      "│  11 │ KARIME X L'ORÉAL       │ 52.6K posts │\n",
      "├─────┼────────────────────────┼─────────────┤\n",
      "│  12 │ #KornoTuitero          │ 19.9K posts │\n",
      "├─────┼────────────────────────┼─────────────┤\n",
      "│  13 │ Dortmund               │ 14.4K posts │\n",
      "├─────┼────────────────────────┼─────────────┤\n",
      "│  14 │ #BernardoPicks         │ 45K posts   │\n",
      "├─────┼────────────────────────┼─────────────┤\n",
      "│  15 │ Calderón               │ 1,056 posts │\n",
      "├─────┼────────────────────────┼─────────────┤\n",
      "│  16 │ Reynosa                │ 115K posts  │\n",
      "├─────┼────────────────────────┼─────────────┤\n",
      "│  17 │ Lille                  │ 947K posts  │\n",
      "├─────┼────────────────────────┼─────────────┤\n",
      "│  18 │ Don Goyo               │ 15.2K posts │\n",
      "├─────┼────────────────────────┼─────────────┤\n",
      "│  19 │ Lamine Yamal           │ 8,699 posts │\n",
      "├─────┼────────────────────────┼─────────────┤\n",
      "│  20 │ Tesla                  │ 93.2K posts │\n",
      "├─────┼────────────────────────┼─────────────┤\n",
      "│  21 │ Ayotzinapa             │ 18.8K posts │\n",
      "├─────┼────────────────────────┼─────────────┤\n",
      "│  22 │ Jean Grey              │ 19.3K posts │\n",
      "├─────┼────────────────────────┼─────────────┤\n",
      "│  23 │ Darwin                 │ 8,668 posts │\n",
      "├─────┼────────────────────────┼─────────────┤\n",
      "│  24 │ Cachorro               │ 11.2K posts │\n",
      "├─────┼────────────────────────┼─────────────┤\n",
      "│  25 │ Sadie Sink             │ 16.3K posts │\n",
      "╘═════╧════════════════════════╧═════════════╛\n"
     ]
    }
   ],
   "source": [
    "#  Buscar tendencias y número de posts\n",
    "try:\n",
    "    # Ajustar el XPath para seleccionar correctamente los elementos con las tendencias\n",
    "    tendencias_raw = driver.find_elements(By.XPATH, '//div[@data-testid=\"trend\"]//div[@dir=\"ltr\" and contains(@style, \"color: rgb(231, 233, 234);\")]//span[contains(@class,\"css-1jxf684\")]')\n",
    "    posts_raw = driver.find_elements(By.XPATH, '//div[@data-testid=\"trend\"]//span[contains(text(),\"posts\")]')\n",
    "\n",
    "    #  Extraer solo el texto del `span`, ignorando imágenes y otros elementos\n",
    "    tendencias = []\n",
    "    for tendencia in tendencias_raw:\n",
    "        texto = tendencia.get_attribute(\"textContent\").strip()  #  Extrae solo el texto dentro del `span`\n",
    "        if texto:\n",
    "            tendencias.append(texto)\n",
    "\n",
    "    #  Crear tabla de tendencias\n",
    "    tabla_tendencias = []\n",
    "    for i in range(min(len(tendencias), len(posts_raw))):  \n",
    "        tendencia_texto = tendencias[i]\n",
    "        posts_texto = posts_raw[i].text.strip()\n",
    "\n",
    "        if tendencia_texto and posts_texto:\n",
    "            tabla_tendencias.append([i+1, tendencia_texto, posts_texto])  #  Agregar a la tabla\n",
    "\n",
    "    #  Mostrar la tabla con `tabulate`\n",
    "    print(tabulate(tabla_tendencias, headers=[\"#\", \"Tendencia\", \"Posts\"], tablefmt=\"fancy_grid\"))\n",
    "\n",
    "except Exception as e:\n",
    "    print(\"❌ No se pudieron obtener las tendencias:\", e)"
   ]
  },
  {
   "cell_type": "code",
   "execution_count": 23,
   "metadata": {},
   "outputs": [],
   "source": [
    "# 🔹 Cerrar el navegador\n",
    "driver.quit()"
   ]
  }
 ],
 "metadata": {
  "kernelspec": {
   "display_name": ".venv",
   "language": "python",
   "name": "python3"
  },
  "language_info": {
   "codemirror_mode": {
    "name": "ipython",
    "version": 3
   },
   "file_extension": ".py",
   "mimetype": "text/x-python",
   "name": "python",
   "nbconvert_exporter": "python",
   "pygments_lexer": "ipython3",
   "version": "3.13.2"
  }
 },
 "nbformat": 4,
 "nbformat_minor": 2
}
