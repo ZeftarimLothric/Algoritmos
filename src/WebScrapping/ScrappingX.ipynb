{
 "cells": [
  {
   "cell_type": "code",
   "execution_count": 1,
   "metadata": {},
   "outputs": [],
   "source": [
    "from selenium import webdriver\n",
    "from selenium.webdriver.chrome.service import Service\n",
    "from selenium.webdriver.chrome.options import Options\n",
    "from selenium.webdriver.common.by import By\n",
    "from selenium.webdriver.common.keys import Keys\n",
    "from selenium.webdriver.support.ui import WebDriverWait\n",
    "from selenium.webdriver.support import expected_conditions as EC\n",
    "from tabulate import tabulate \n",
    "import time\n"
   ]
  },
  {
   "cell_type": "code",
   "execution_count": 2,
   "metadata": {},
   "outputs": [],
   "source": [
    "# 🔹 Ruta del ejecutable de Chrome Testing\n",
    "chrome_testing_path = r\"C:\\chrome-win64\\chrome.exe\"  # "
   ]
  },
  {
   "cell_type": "code",
   "execution_count": 3,
   "metadata": {},
   "outputs": [],
   "source": [
    "#  Configuración de Selenium con Chrome\n",
    "chrome_options = Options()\n",
    "chrome_options.binary_location = chrome_testing_path\n",
    "chrome_options.add_argument(\"--disable-blink-features=AutomationControlled\")  # Evita detección de bots\n",
    "chrome_options.add_argument(\"--disable-gpu\")\n",
    "chrome_options.add_argument(\"--no-sandbox\")\n",
    "# chrome_options.add_argument(\"--headless\")  \n"
   ]
  },
  {
   "cell_type": "code",
   "execution_count": 4,
   "metadata": {},
   "outputs": [],
   "source": [
    "# Iniciar WebDriver\n",
    "driver = webdriver.Chrome(options=chrome_options)\n",
    "\n",
    "# Ir a la página de inicio de sesión de Twitter/X\n",
    "driver.get(\"https://x.com/login\")\n",
    "time.sleep(5)  # Esperar a que cargue la página"
   ]
  },
  {
   "cell_type": "code",
   "execution_count": null,
   "metadata": {},
   "outputs": [],
   "source": [
    "# # 🔹 Iniciar sesión en Twitter/X\n",
    "# try:\n",
    "#     # Esperar hasta que el campo de usuario esté disponible\n",
    "#     username_input = WebDriverWait(driver, 15).until(\n",
    "#         EC.presence_of_element_located((By.NAME, \"text\"))\n",
    "#     )\n",
    "#     username_input.send_keys(\"correo\")  # 🔹 Reemplaza con tu usuario o correo\n",
    "#     time.sleep(2)  # Pequeña pausa para que no lo detecte como bot\n",
    "#     username_input.send_keys(Keys.RETURN)\n",
    "\n",
    "#     time.sleep(3)  # Esperar la transición al siguiente campo\n",
    "\n",
    "#     # 🔹 Esperar hasta que el campo de contraseña aparezca\n",
    "#     password_input = WebDriverWait(driver, 15).until(\n",
    "#         EC.presence_of_element_located((By.NAME, \"password\"))\n",
    "#     )\n",
    "#     password_input.send_keys(\"contraseña\")  # 🔹 Reemplaza con tu contraseña\n",
    "#     time.sleep(2)  # Pequeña pausa\n",
    "#     password_input.send_keys(Keys.RETURN)\n",
    "\n",
    "#     time.sleep(5)  # Esperar a que cargue la cuenta\n",
    "\n",
    "#     print(\"✅ Inicio de sesión exitoso en Twitter/X.\")\n",
    "\n",
    "# except Exception as e:\n",
    "#     print(\"❌ Error al iniciar sesión:\", e)\n",
    "#     driver.quit()\n",
    "#     exit()"
   ]
  },
  {
   "cell_type": "code",
   "execution_count": 6,
   "metadata": {},
   "outputs": [],
   "source": [
    "#  Ir a la sección de tendencias\n",
    "driver.get(\"https://x.com/explore/tabs/trending\")\n",
    "time.sleep(5)  # Esperar a que se carguen las tendencias"
   ]
  },
  {
   "cell_type": "code",
   "execution_count": 7,
   "metadata": {},
   "outputs": [
    {
     "name": "stdout",
     "output_type": "stream",
     "text": [
      "╒═════╤════════════════════════╤═════════════╕\n",
      "│   # │ Tendencia              │ Posts       │\n",
      "╞═════╪════════════════════════╪═════════════╡\n",
      "│   1 │ Jalisco                │ 139K posts  │\n",
      "├─────┼────────────────────────┼─────────────┤\n",
      "│   2 │ Madrid                 │ 346K posts  │\n",
      "├─────┼────────────────────────┼─────────────┤\n",
      "│   3 │ Vive Feliz             │ 1,921 posts │\n",
      "├─────┼────────────────────────┼─────────────┤\n",
      "│   4 │ #LutoNacional          │ 10.9K posts │\n",
      "├─────┼────────────────────────┼─────────────┤\n",
      "│   5 │ Richard                │ 63.1K posts │\n",
      "├─────┼────────────────────────┼─────────────┤\n",
      "│   6 │ Alfaro                 │ 23.8K posts │\n",
      "├─────┼────────────────────────┼─────────────┤\n",
      "│   7 │ #FelizMiércoles        │ 7,628 posts │\n",
      "├─────┼────────────────────────┼─────────────┤\n",
      "│   8 │ Liverpool              │ 459K posts  │\n",
      "├─────┼────────────────────────┼─────────────┤\n",
      "│   9 │ Calderón               │ 21.5K posts │\n",
      "├─────┼────────────────────────┼─────────────┤\n",
      "│  10 │ Roro                   │ 39.9K posts │\n",
      "├─────┼────────────────────────┼─────────────┤\n",
      "│  11 │ Ancelotti              │ 13.6K posts │\n",
      "├─────┼────────────────────────┼─────────────┤\n",
      "│  12 │ Cachorro               │ 18.8K posts │\n",
      "├─────┼────────────────────────┼─────────────┤\n",
      "│  13 │ Lilo                   │ 49.2K posts │\n",
      "├─────┼────────────────────────┼─────────────┤\n",
      "│  14 │ #MásAcciónMásDiversión │ 25.8K posts │\n",
      "├─────┼────────────────────────┼─────────────┤\n",
      "│  15 │ #kornotuitero          │ 1,189 posts │\n",
      "├─────┼────────────────────────┼─────────────┤\n",
      "│  16 │ KARIME X L'ORÉAL       │ 56.8K posts │\n",
      "├─────┼────────────────────────┼─────────────┤\n",
      "│  17 │ #BernardoPicks         │ 46K posts   │\n",
      "├─────┼────────────────────────┼─────────────┤\n",
      "│  18 │ Don Goyo               │ 14.7K posts │\n",
      "├─────┼────────────────────────┼─────────────┤\n",
      "│  19 │ Dortmund               │ 104K posts  │\n",
      "├─────┼────────────────────────┼─────────────┤\n",
      "│  20 │ Lille                  │ 9,346 posts │\n",
      "├─────┼────────────────────────┼─────────────┤\n",
      "│  21 │ Reynosa                │ 14.9K posts │\n",
      "├─────┼────────────────────────┼─────────────┤\n",
      "│  22 │ Lamine Yamal           │ 914K posts  │\n",
      "├─────┼────────────────────────┼─────────────┤\n",
      "│  23 │ Brahim                 │ 20.9K posts │\n",
      "├─────┼────────────────────────┼─────────────┤\n",
      "│  24 │ Ayotzinapa             │ 8,770 posts │\n",
      "├─────┼────────────────────────┼─────────────┤\n",
      "│  25 │ Tesla                  │ 11.4K posts │\n",
      "├─────┼────────────────────────┼─────────────┤\n",
      "│  26 │ Krispy Kreme           │ 5,017 posts │\n",
      "╘═════╧════════════════════════╧═════════════╛\n"
     ]
    }
   ],
   "source": [
    "#  Buscar tendencias y número de posts\n",
    "try:\n",
    "    # Ajustar el XPath para seleccionar correctamente los elementos con las tendencias\n",
    "    tendencias_raw = driver.find_elements(By.XPATH, '//div[@data-testid=\"trend\"]//div[@dir=\"ltr\" and contains(@style, \"color: rgb(231, 233, 234);\")]//span[contains(@class,\"css-1jxf684\")]')\n",
    "    posts_raw = driver.find_elements(By.XPATH, '//div[@data-testid=\"trend\"]//span[contains(text(),\"posts\")]')\n",
    "\n",
    "    #  Extraer solo el texto del `span`, ignorando imágenes y otros elementos\n",
    "    tendencias = []\n",
    "    for tendencia in tendencias_raw:\n",
    "        texto = tendencia.get_attribute(\"textContent\").strip()  #  Extrae solo el texto dentro del `span`\n",
    "        if texto:\n",
    "            tendencias.append(texto)\n",
    "\n",
    "    #  Crear tabla de tendencias\n",
    "    tabla_tendencias = []\n",
    "    for i in range(min(len(tendencias), len(posts_raw))):  \n",
    "        tendencia_texto = tendencias[i]\n",
    "        posts_texto = posts_raw[i].text.strip()\n",
    "\n",
    "        if tendencia_texto and posts_texto:\n",
    "            tabla_tendencias.append([i+1, tendencia_texto, posts_texto])  #  Agregar a la tabla\n",
    "\n",
    "    #  Mostrar la tabla con `tabulate`\n",
    "    print(tabulate(tabla_tendencias, headers=[\"#\", \"Tendencia\", \"Posts\"], tablefmt=\"fancy_grid\"))\n",
    "\n",
    "except Exception as e:\n",
    "    print(\"❌ No se pudieron obtener las tendencias:\", e)"
   ]
  },
  {
   "cell_type": "code",
   "execution_count": 23,
   "metadata": {},
   "outputs": [],
   "source": [
    "# 🔹 Cerrar el navegador\n",
    "driver.quit()"
   ]
  }
 ],
 "metadata": {
  "kernelspec": {
   "display_name": ".venv",
   "language": "python",
   "name": "python3"
  },
  "language_info": {
   "codemirror_mode": {
    "name": "ipython",
    "version": 3
   },
   "file_extension": ".py",
   "mimetype": "text/x-python",
   "name": "python",
   "nbconvert_exporter": "python",
   "pygments_lexer": "ipython3",
   "version": "3.13.2"
  }
 },
 "nbformat": 4,
 "nbformat_minor": 2
}
